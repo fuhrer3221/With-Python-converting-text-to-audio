{
 "cells": [
  {
   "cell_type": "markdown",
   "id": "0970326f",
   "metadata": {},
   "source": [
    "# day1 bonus code"
   ]
  },
  {
   "cell_type": "markdown",
   "id": "b1564065",
   "metadata": {},
   "source": [
    "##### we need to download the library before calling it "
   ]
  },
  {
   "cell_type": "code",
   "execution_count": null,
   "id": "2e4a72f8",
   "metadata": {
    "scrolled": true
   },
   "outputs": [],
   "source": [
    "#pip install gtts "
   ]
  },
  {
   "cell_type": "markdown",
   "id": "ce59aae5",
   "metadata": {},
   "source": [
    "Certainly! The 'gtts' (Google Text-to-Speech) library is used for converting text into speech in Python. Here are some basic things you can do with the 'gtts' library:"
   ]
  },
  {
   "cell_type": "markdown",
   "id": "e56b8ce3",
   "metadata": {},
   "source": [
    "### first of all we import the gtts library"
   ]
  },
  {
   "cell_type": "code",
   "execution_count": null,
   "id": "c5a781d6",
   "metadata": {},
   "outputs": [],
   "source": [
    "from gtts  import gTTS"
   ]
  },
  {
   "cell_type": "markdown",
   "id": "5dcb2567",
   "metadata": {},
   "source": [
    "#### now let's write the text we want her to read"
   ]
  },
  {
   "cell_type": "code",
   "execution_count": null,
   "id": "b1d79fa1",
   "metadata": {},
   "outputs": [],
   "source": [
    "text=\"Welcome to my world\""
   ]
  },
  {
   "cell_type": "markdown",
   "id": "61851a5c",
   "metadata": {},
   "source": [
    "### Let's create our data using gTTS"
   ]
  },
  {
   "cell_type": "code",
   "execution_count": null,
   "id": "f3538fee",
   "metadata": {},
   "outputs": [],
   "source": [
    "data=gTTS(text=text, lang=\"en\" , slow=False )\n",
    "#lang='code for the language we want to use'\n",
    "#text='how are you ' are data='where are you from ' ; data=gTTS(text=data, lang=\"en\" , slow=False )"
   ]
  },
  {
   "cell_type": "markdown",
   "id": "892b0e18",
   "metadata": {},
   "source": [
    "##### Save it as mp3\n",
    "this way we can use it anytime and anywhere "
   ]
  },
  {
   "cell_type": "code",
   "execution_count": null,
   "id": "295d4588",
   "metadata": {},
   "outputs": [],
   "source": [
    "data.save(\"temp.mp3\")"
   ]
  },
  {
   "cell_type": "markdown",
   "id": "83610479",
   "metadata": {},
   "source": [
    "## Shall we listen to the file we recorded? \n",
    "### for this let's first import the os library"
   ]
  },
  {
   "cell_type": "code",
   "execution_count": null,
   "id": "40f1a2be",
   "metadata": {},
   "outputs": [],
   "source": [
    "import os"
   ]
  },
  {
   "cell_type": "markdown",
   "id": "b003a7d2",
   "metadata": {},
   "source": [
    "#### Let's give our mp3 file to run "
   ]
  },
  {
   "cell_type": "code",
   "execution_count": null,
   "id": "ff674441",
   "metadata": {},
   "outputs": [
    {
     "data": {
      "text/plain": [
       "0"
      ]
     },
     "execution_count": 7,
     "metadata": {},
     "output_type": "execute_result"
    }
   ],
   "source": [
    "os.system(\"start temp.mp3\")"
   ]
  },
  {
   "cell_type": "markdown",
   "id": "b9249f54",
   "metadata": {},
   "source": [
    "##### Are"
   ]
  },
  {
   "cell_type": "code",
   "execution_count": null,
   "id": "297ef6e0",
   "metadata": {},
   "outputs": [
    {
     "data": {
      "text/plain": [
       "True"
      ]
     },
     "execution_count": 19,
     "metadata": {},
     "output_type": "execute_result"
    }
   ],
   "source": [
    "import webbrowser\n",
    "\n",
    "webbrowser.open(\"temp.mp3\")"
   ]
  },
  {
   "cell_type": "markdown",
   "id": "728fe560",
   "metadata": {},
   "source": [
    "# WİN:)\n"
   ]
  },
  {
   "cell_type": "markdown",
   "id": "fb9c078d",
   "metadata": {},
   "source": [
    "# What else can be done with gTTS "
   ]
  },
  {
   "cell_type": "raw",
   "id": "7ead5af6",
   "metadata": {},
   "source": [
    "Save the Audio in a Different Format:\n",
    "If you want to save the generated audio in a format other than MP3, you can use the 'format' parameter in the save function. For example, to 'save' in WAV format: \n"
   ]
  },
  {
   "cell_type": "raw",
   "id": "55ed149b",
   "metadata": {},
   "source": []
  },
  {
   "cell_type": "markdown",
   "id": "9b9a0e11",
   "metadata": {},
   "source": [
    "##### -Adjust the Speed and Pitch of the Speech: You can adjust the speed and pitch of the generated audio using the 'speed' and 'slow' parameters."
   ]
  },
  {
   "cell_type": "code",
   "execution_count": null,
   "id": "5f235dd8",
   "metadata": {},
   "outputs": [],
   "source": [
    "tts = gTTS(text=\"Hello\", lang='en', slow=True)  # for Slow speech\n"
   ]
  },
  {
   "cell_type": "markdown",
   "id": "de5e1fb3",
   "metadata": {},
   "source": [
    "##### Work with Dynamic Texts:\n",
    "You can use 'gTTS' to convert dynamically provided texts to speech. For example, reading headlines from a web page."
   ]
  },
  {
   "cell_type": "code",
   "execution_count": null,
   "id": "1ab3362e",
   "metadata": {},
   "outputs": [],
   "source": [
    "import requests\n",
    "from bs4 import BeautifulSoup\n",
    "from gtts import gTTS\n",
    "\n",
    "# Get the web page\n",
    "response = requests.get(\"https://example.com/news\")\n",
    "soup = BeautifulSoup(response.text, 'html.parser')\n",
    "\n",
    "# Fetch headlines and convert them to speech\n",
    "for headline in soup.find_all('h2'):\n",
    "    text = headline.text\n",
    "    tts = gTTS(text=text, lang='en')\n",
    "    tts.save(f\"{text[:10]}.mp3\")  # Save the file with the first 10 characters and .mp3 extension\n"
   ]
  },
  {
   "cell_type": "markdown",
   "id": "a1ec12f9",
   "metadata": {},
   "source": [
    "### for a voice AI command system \n",
    "generate ready-made answers to the questions we have already received; when the questions are asked again, they are automatically answered."
   ]
  },
  {
   "cell_type": "code",
   "execution_count": null,
   "id": "69d14c9f",
   "metadata": {},
   "outputs": [
    {
     "name": "stdout",
     "output_type": "stream",
     "text": [
      "Can I ask you a question: \n"
     ]
    }
   ],
   "source": [
    "user_input = input(\"Can I ask you a question: \")#Let's specify the question we want to ask \n",
    "answer_text = \"yes ,of course \"\n",
    "tts = gTTS(text=answer_text, lang='en')\n",
    "tts.save(\"response.mp3\")"
   ]
  },
  {
   "cell_type": "markdown",
   "id": "1bc35f4f",
   "metadata": {},
   "source": [
    "### Speech in Different Languages:\n",
    "You can convert text to speech in different languages by changing the lang parameter."
   ]
  },
  {
   "cell_type": "code",
   "execution_count": null,
   "id": "f5f6dff2",
   "metadata": {},
   "outputs": [],
   "source": [
    "tts = gTTS(text=\"Bonjour\", lang='fr')  # French\n"
   ]
  },
  {
   "cell_type": "markdown",
   "id": "45d2bc4b",
   "metadata": {},
   "source": [
    "for more you can look and learn and use it in your projects :https://pypi.org/project/gTTS/"
   ]
  }
 ],
 "metadata": {
  "kernelspec": {
   "display_name": "Python 3 (ipykernel)",
   "language": "python",
   "name": "python3"
  },
  "language_info": {
   "codemirror_mode": {
    "name": "ipython",
    "version": 3
   },
   "file_extension": ".py",
   "mimetype": "text/x-python",
   "name": "python",
   "nbconvert_exporter": "python",
   "pygments_lexer": "ipython3",
   "version": "3.12.1"
  }
 },
 "nbformat": 4,
 "nbformat_minor": 5
}
